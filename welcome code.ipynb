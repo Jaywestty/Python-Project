{
 "cells": [
  {
   "cell_type": "code",
   "execution_count": 5,
   "metadata": {},
   "outputs": [
    {
     "name": "stdout",
     "output_type": "stream",
     "text": [
      "Hello World\n",
      "Im Jaylee\n",
      "I love python so much\n",
      "I have finally gotten how to use github with vscode\n"
     ]
    }
   ],
   "source": [
    "#This is a wecome file\n",
    "\n",
    "print('Hello World')\n",
    "print('Im Jaylee')\n",
    "print('I love python so much')\n",
    "print('I have finally gotten how to use github with vscode')"
   ]
  }
 ],
 "metadata": {
  "kernelspec": {
   "display_name": "base",
   "language": "python",
   "name": "python3"
  },
  "language_info": {
   "codemirror_mode": {
    "name": "ipython",
    "version": 3
   },
   "file_extension": ".py",
   "mimetype": "text/x-python",
   "name": "python",
   "nbconvert_exporter": "python",
   "pygments_lexer": "ipython3",
   "version": "3.11.4"
  }
 },
 "nbformat": 4,
 "nbformat_minor": 2
}
