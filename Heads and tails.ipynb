{
 "cells": [
  {
   "cell_type": "markdown",
   "metadata": {},
   "source": [
    "HEADS AND TAIL PROJECT"
   ]
  },
  {
   "cell_type": "code",
   "execution_count": 5,
   "metadata": {},
   "outputs": [],
   "source": [
    "# PROMPT THE USER\n",
    "\n",
    "def input_user():\n",
    "    while True:\n",
    "        guess = input('heads or tails? ')\n",
    "\n",
    "        if guess in ['heads','tails']:\n",
    "\n",
    "            return guess\n",
    "        \n",
    "        print('Not valid Input!')"
   ]
  },
  {
   "cell_type": "code",
   "execution_count": 6,
   "metadata": {},
   "outputs": [],
   "source": [
    "#FLIP A COIN\n",
    "\n",
    "from random import randrange\n",
    "\n",
    "def flips_a_coin():\n",
    "    coin = randrange(2)\n",
    "    if coin == 0:\n",
    "        return 'tails'\n",
    "    else:\n",
    "        return 'heads'\n"
   ]
  },
  {
   "cell_type": "code",
   "execution_count": 23,
   "metadata": {},
   "outputs": [],
   "source": [
    "#PRINT RESULT\n",
    "\n",
    "def print_results(user_guess,coin):\n",
    "    if user_guess == coin:\n",
    "        print('You Guess It Right! You Won!!!')\n",
    "    else:\n",
    "        print('You Guessed It Wrong! You Lost!!!')\n",
    "\n"
   ]
  },
  {
   "cell_type": "code",
   "execution_count": 27,
   "metadata": {},
   "outputs": [
    {
     "name": "stdout",
     "output_type": "stream",
     "text": [
      "Not valid Input!\n",
      "You Guessed It Wrong! You Lost!!!\n",
      "You guessed = tails\n",
      "Coin flipped = heads\n"
     ]
    }
   ],
   "source": [
    "# PUTTING ALL OF IT TOGETHER\n",
    "\n",
    "user_guess = input_user()\n",
    "coin = flips_a_coin()\n",
    "print_results(user_guess,coin)\n",
    "print(f'You guessed = {user_guess}')\n",
    "print(f'Coin flipped = {coin}')"
   ]
  },
  {
   "cell_type": "code",
   "execution_count": null,
   "metadata": {},
   "outputs": [],
   "source": []
  }
 ],
 "metadata": {
  "kernelspec": {
   "display_name": "base",
   "language": "python",
   "name": "python3"
  },
  "language_info": {
   "codemirror_mode": {
    "name": "ipython",
    "version": 3
   },
   "file_extension": ".py",
   "mimetype": "text/x-python",
   "name": "python",
   "nbconvert_exporter": "python",
   "pygments_lexer": "ipython3",
   "version": "3.11.4"
  }
 },
 "nbformat": 4,
 "nbformat_minor": 2
}
