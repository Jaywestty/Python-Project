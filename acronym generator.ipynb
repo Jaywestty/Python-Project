{
 "cells": [
  {
   "cell_type": "markdown",
   "metadata": {},
   "source": [
    "ACRONYM GENERATOR"
   ]
  },
  {
   "cell_type": "code",
   "execution_count": 2,
   "metadata": {},
   "outputs": [
    {
     "name": "stdout",
     "output_type": "stream",
     "text": [
      "Input From User: computer science engineering\n",
      "Acronym Of User input:  CSE\n"
     ]
    }
   ],
   "source": [
    "def acronymn():\n",
    "    \n",
    "    # GET USER INPUT FIRST AND SPLIT THE SENTENCE INTO WORDS USING THE SPLIT FUNCTION.\n",
    "    get_user = input('Input word phrase: ')\n",
    "    new_get_user = get_user.split()\n",
    "    \n",
    "    #ASSIGN USER_OUTPUT TO EMPTY STRING\n",
    "    user_output = \" \"\n",
    "\n",
    "    #USE THE FOR LOOP TO ITERATE OVER THE USER INPUT AND ADD FIRST LETTER OF EACH WORD TO THE EMPTY STRING\n",
    "    for word in new_get_user:\n",
    "        user_output += word[0]\n",
    "\n",
    "    #CAPITALIZE FIRST LETTER BY USING THE UPPER FUNCTION\n",
    "    user_output = user_output.upper()\n",
    "\n",
    "    #FINALLY PRINT USER OUTPUT\n",
    "    print(f'Input From User: {get_user}')\n",
    "    print(f'Acronym Of User input: {user_output}')\n",
    "\n",
    "\n",
    "acronymn()"
   ]
  }
 ],
 "metadata": {
  "kernelspec": {
   "display_name": "base",
   "language": "python",
   "name": "python3"
  },
  "language_info": {
   "codemirror_mode": {
    "name": "ipython",
    "version": 3
   },
   "file_extension": ".py",
   "mimetype": "text/x-python",
   "name": "python",
   "nbconvert_exporter": "python",
   "pygments_lexer": "ipython3",
   "version": "3.11.4"
  }
 },
 "nbformat": 4,
 "nbformat_minor": 2
}
